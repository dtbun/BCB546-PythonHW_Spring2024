{
 "cells": [
  {
   "cell_type": "markdown",
   "metadata": {},
   "source": [
    "BCB 546X: Python Assignment\n",
    "Daniel Bun\n",
    "\n",
    " Here's the start of our Python script. Thanks for completing it for me! - Dr. X\n",
    " IMPORTANT: install BioPython so that this will work"
   ]
  },
  {
   "cell_type": "code",
   "execution_count": 41,
   "metadata": {},
   "outputs": [
    {
     "name": "stdout",
     "output_type": "stream",
     "text": [
      "Requirement already satisfied: BioPython in c:\\users\\danie\\appdata\\local\\packages\\pythonsoftwarefoundation.python.3.11_qbz5n2kfra8p0\\localcache\\local-packages\\python311\\site-packages (1.83)\n",
      "Requirement already satisfied: numpy in c:\\users\\danie\\appdata\\local\\packages\\pythonsoftwarefoundation.python.3.11_qbz5n2kfra8p0\\localcache\\local-packages\\python311\\site-packages (from BioPython) (1.26.4)\n",
      "Note: you may need to restart the kernel to use updated packages.\n",
      "Requirement already satisfied: pandas in c:\\users\\danie\\appdata\\local\\packages\\pythonsoftwarefoundation.python.3.11_qbz5n2kfra8p0\\localcache\\local-packages\\python311\\site-packages (2.2.2)\n",
      "Requirement already satisfied: numpy>=1.23.2 in c:\\users\\danie\\appdata\\local\\packages\\pythonsoftwarefoundation.python.3.11_qbz5n2kfra8p0\\localcache\\local-packages\\python311\\site-packages (from pandas) (1.26.4)\n",
      "Requirement already satisfied: python-dateutil>=2.8.2 in c:\\users\\danie\\appdata\\local\\packages\\pythonsoftwarefoundation.python.3.11_qbz5n2kfra8p0\\localcache\\local-packages\\python311\\site-packages (from pandas) (2.9.0.post0)\n",
      "Requirement already satisfied: pytz>=2020.1 in c:\\users\\danie\\appdata\\local\\packages\\pythonsoftwarefoundation.python.3.11_qbz5n2kfra8p0\\localcache\\local-packages\\python311\\site-packages (from pandas) (2024.1)\n",
      "Requirement already satisfied: tzdata>=2022.7 in c:\\users\\danie\\appdata\\local\\packages\\pythonsoftwarefoundation.python.3.11_qbz5n2kfra8p0\\localcache\\local-packages\\python311\\site-packages (from pandas) (2024.1)\n",
      "Requirement already satisfied: six>=1.5 in c:\\users\\danie\\appdata\\local\\packages\\pythonsoftwarefoundation.python.3.11_qbz5n2kfra8p0\\localcache\\local-packages\\python311\\site-packages (from python-dateutil>=2.8.2->pandas) (1.16.0)\n",
      "Note: you may need to restart the kernel to use updated packages.\n",
      "Requirement already satisfied: seaborn in c:\\users\\danie\\appdata\\local\\packages\\pythonsoftwarefoundation.python.3.11_qbz5n2kfra8p0\\localcache\\local-packages\\python311\\site-packages (0.13.2)\n",
      "Requirement already satisfied: numpy!=1.24.0,>=1.20 in c:\\users\\danie\\appdata\\local\\packages\\pythonsoftwarefoundation.python.3.11_qbz5n2kfra8p0\\localcache\\local-packages\\python311\\site-packages (from seaborn) (1.26.4)\n",
      "Requirement already satisfied: pandas>=1.2 in c:\\users\\danie\\appdata\\local\\packages\\pythonsoftwarefoundation.python.3.11_qbz5n2kfra8p0\\localcache\\local-packages\\python311\\site-packages (from seaborn) (2.2.2)\n",
      "Requirement already satisfied: matplotlib!=3.6.1,>=3.4 in c:\\users\\danie\\appdata\\local\\packages\\pythonsoftwarefoundation.python.3.11_qbz5n2kfra8p0\\localcache\\local-packages\\python311\\site-packages (from seaborn) (3.8.4)\n",
      "Requirement already satisfied: contourpy>=1.0.1 in c:\\users\\danie\\appdata\\local\\packages\\pythonsoftwarefoundation.python.3.11_qbz5n2kfra8p0\\localcache\\local-packages\\python311\\site-packages (from matplotlib!=3.6.1,>=3.4->seaborn) (1.2.1)\n",
      "Requirement already satisfied: cycler>=0.10 in c:\\users\\danie\\appdata\\local\\packages\\pythonsoftwarefoundation.python.3.11_qbz5n2kfra8p0\\localcache\\local-packages\\python311\\site-packages (from matplotlib!=3.6.1,>=3.4->seaborn) (0.12.1)\n",
      "Requirement already satisfied: fonttools>=4.22.0 in c:\\users\\danie\\appdata\\local\\packages\\pythonsoftwarefoundation.python.3.11_qbz5n2kfra8p0\\localcache\\local-packages\\python311\\site-packages (from matplotlib!=3.6.1,>=3.4->seaborn) (4.51.0)\n",
      "Requirement already satisfied: kiwisolver>=1.3.1 in c:\\users\\danie\\appdata\\local\\packages\\pythonsoftwarefoundation.python.3.11_qbz5n2kfra8p0\\localcache\\local-packages\\python311\\site-packages (from matplotlib!=3.6.1,>=3.4->seaborn) (1.4.5)\n",
      "Requirement already satisfied: packaging>=20.0 in c:\\users\\danie\\appdata\\local\\packages\\pythonsoftwarefoundation.python.3.11_qbz5n2kfra8p0\\localcache\\local-packages\\python311\\site-packages (from matplotlib!=3.6.1,>=3.4->seaborn) (24.0)\n",
      "Requirement already satisfied: pillow>=8 in c:\\users\\danie\\appdata\\local\\packages\\pythonsoftwarefoundation.python.3.11_qbz5n2kfra8p0\\localcache\\local-packages\\python311\\site-packages (from matplotlib!=3.6.1,>=3.4->seaborn) (10.3.0)\n",
      "Requirement already satisfied: pyparsing>=2.3.1 in c:\\users\\danie\\appdata\\local\\packages\\pythonsoftwarefoundation.python.3.11_qbz5n2kfra8p0\\localcache\\local-packages\\python311\\site-packages (from matplotlib!=3.6.1,>=3.4->seaborn) (3.1.2)\n",
      "Requirement already satisfied: python-dateutil>=2.7 in c:\\users\\danie\\appdata\\local\\packages\\pythonsoftwarefoundation.python.3.11_qbz5n2kfra8p0\\localcache\\local-packages\\python311\\site-packages (from matplotlib!=3.6.1,>=3.4->seaborn) (2.9.0.post0)\n",
      "Requirement already satisfied: pytz>=2020.1 in c:\\users\\danie\\appdata\\local\\packages\\pythonsoftwarefoundation.python.3.11_qbz5n2kfra8p0\\localcache\\local-packages\\python311\\site-packages (from pandas>=1.2->seaborn) (2024.1)\n",
      "Requirement already satisfied: tzdata>=2022.7 in c:\\users\\danie\\appdata\\local\\packages\\pythonsoftwarefoundation.python.3.11_qbz5n2kfra8p0\\localcache\\local-packages\\python311\\site-packages (from pandas>=1.2->seaborn) (2024.1)\n",
      "Requirement already satisfied: six>=1.5 in c:\\users\\danie\\appdata\\local\\packages\\pythonsoftwarefoundation.python.3.11_qbz5n2kfra8p0\\localcache\\local-packages\\python311\\site-packages (from python-dateutil>=2.7->matplotlib!=3.6.1,>=3.4->seaborn) (1.16.0)\n",
      "Note: you may need to restart the kernel to use updated packages.\n"
     ]
    }
   ],
   "source": [
    "#installing BioPython to this Juyper notebook\n",
    "%pip install BioPython \n",
    "#installing pandas to this notebook\n",
    "%pip install pandas \n",
    "#installing seaborn\n",
    "%pip install seaborn\n",
    "\n",
    "from Bio import SeqIO               #import SeqIO subpackage from BioPython to handle sequencing data\n",
    "from Bio.Data import CodonTable     #Import CodonTable from BioPython for translation problems\n",
    "import pandas as pd                 #import pandas as pd for using pandas\n",
    "from Bio.Seq import Seq             ##import Seq commands/methods from biopython\n",
    "import math                         #math for the gc calculations\n",
    "from Bio.SeqUtils import gc_fraction #import from biopython sequencing utilities gc_fraction method\n",
    "import seaborn as sns               #Import seaborn for plotting\n",
    "import matplotlib.pyplot as plt     #import matplotlib"
   ]
  },
  {
   "cell_type": "markdown",
   "metadata": {},
   "source": [
    "1 \n",
    " \n",
    " Dr. X: this gets sequences \n",
    " Please properly document this function in the Jupyter notebook \n",
    " Your descriptions of all functions should contain information about what the function does,\n",
    " as well as information about the return types and arguments."
   ]
  },
  {
   "cell_type": "code",
   "execution_count": 2,
   "metadata": {},
   "outputs": [],
   "source": [
    "#1\n",
    "\n",
    "#In this we are creating a function for getting sequences from a fasta file\n",
    "def get_sequences_from_file(fasta_fn):                              #define function_name(input)\n",
    "    sequence_data_dict = {}                                         #create a variable to store the sequence data to\n",
    "    for record in SeqIO.parse(fasta_fn, \"fasta\"):                   #defining a loop that loops over each record in the fasta file given to it, biopython\n",
    "        description = record.description.split()                    #Split the Fasta descriptions and store them into a variable\n",
    "        species_name = description[1] + \" \" + description[2]        #Define species name as description 1 space description 2\n",
    "        sequence_data_dict[species_name] = record.seq               #append the species name to the previously defined sequence_data_dict\n",
    "    return(sequence_data_dict)                                      #Return the dictionary of species names"
   ]
  },
  {
   "cell_type": "markdown",
   "metadata": {},
   "source": [
    "2\n",
    "YOUR STRING-TRANSLATE FUNCTION "
   ]
  },
  {
   "cell_type": "code",
   "execution_count": 17,
   "metadata": {},
   "outputs": [
    {
     "data": {
      "text/plain": [
       "'TVTSSISISIDISTTASRYT'"
      ]
     },
     "execution_count": 17,
     "metadata": {},
     "output_type": "execute_result"
    }
   ],
   "source": [
    "def translate_function(string_nucleotides): \n",
    "    mito_table = CodonTable.unambiguous_dna_by_name[\"Vertebrate Mitochondrial\"] #load codon table to mito_table object to refer to\n",
    "    Aminoacid_string = []                                                       #make object to store aminoacid string to\n",
    "    for myI in range(0, len(string_nucleotides), 3):                            #create for loop for reading string 3nucleotides at a time                                 \n",
    "        codon = string_nucleotides[myI:myI + 3]                                 #define codon object as every 3 nucleotides\n",
    "        amino_acid = mito_table.forward_table.get(codon, \"stop\")                #translate codon to the respective amino acid\n",
    "        if codon in mito_table.stop_codons:                                     #make if statement to check for stop codon\n",
    "            break                                                               #if stop codon is found, do not keep reading\n",
    "        else:                                                                   #else is used for when it is not a stop codon\n",
    "            Aminoacid_string.append(amino_acid)                                 #which then keeps appending translated codons\n",
    "\n",
    "    return(''.join(Aminoacid_string))                                           #return output amino acid string to show result\n",
    "\n",
    "translate_function('ACCGTGACGTCATCGATCAGCATCAGCATCGACATCAGCACTACAGCATCACGATATACG') #test case"
   ]
  },
  {
   "cell_type": "markdown",
   "metadata": {},
   "source": [
    "3\n",
    "YOUR ALTERNATIVE FUNCTION (USING BIOPYTHON)"
   ]
  },
  {
   "cell_type": "code",
   "execution_count": 23,
   "metadata": {},
   "outputs": [
    {
     "data": {
      "text/plain": [
       "'TVTSSISISIDISTTASRYT'"
      ]
     },
     "execution_count": 23,
     "metadata": {},
     "output_type": "execute_result"
    }
   ],
   "source": [
    "def biotranslate(string_nucleotide):                                            #define function to translate\n",
    "    aminoacid = Seq.translate(string_nucleotide, table=2,to_stop=True)          #create object to store biopython translation\n",
    "    return aminoacid                                                            #return translated amino acid string\n",
    "\n",
    "biotranslate('ACCGTGACGTCATCGATCAGCATCAGCATCGACATCAGCACTACAGCATCACGATATACG')    #test case"
   ]
  },
  {
   "cell_type": "markdown",
   "metadata": {},
   "source": [
    "4 YOUR COUNT AA ANALYSIS FUNCTION "
   ]
  },
  {
   "cell_type": "code",
   "execution_count": 36,
   "metadata": {},
   "outputs": [
    {
     "data": {
      "text/plain": [
       "2084.06372"
      ]
     },
     "execution_count": 36,
     "metadata": {},
     "output_type": "execute_result"
    }
   ],
   "source": [
    "\n",
    "def AA_weight(seq): #define function to accept seq argument\n",
    "\n",
    "  table = {                                                       #define a table for weights of amino acids\n",
    "    'A':71.03711, 'B':71.03711, 'C':103.00919, 'D':115.02694,\n",
    "    'E':129.04259, 'F':147.06841, 'G':57.02146, 'H':137.05891,\n",
    "    'I':113.08406, 'K':128.09496, 'L':113.08406, 'M':131.04049,\n",
    "    'N':114.04293, 'P':97.05276, 'Q':128.05858, 'R':156.10111,\n",
    "    'S':87.03203, 'T':101.04768, 'V':99.06841, 'W':186.07931,\n",
    "    'Y':163.06333\n",
    "    }\n",
    "  protein_weight = 0                                              #define protein variable as 0 so we can add to it\n",
    "  for protein in seq:                                             #for loop to go through the sequence 1 letter at a time\n",
    "      protein_weight = protein_weight + table[protein]            #protein weight gets added based on the weight that is read, then saved in protein add var\n",
    "  return protein_weight                                           #return protein weight that is calculated\n",
    "\n",
    "AA_weight('TVTSSISISIDISTTASRYT')                                 #testcase"
   ]
  },
  {
   "cell_type": "markdown",
   "metadata": {},
   "source": [
    "5 YOUR GC CONTENT ANALYSIS FUNCTION"
   ]
  },
  {
   "cell_type": "code",
   "execution_count": 32,
   "metadata": {},
   "outputs": [
    {
     "data": {
      "text/plain": [
       "50.0"
      ]
     },
     "execution_count": 32,
     "metadata": {},
     "output_type": "execute_result"
    }
   ],
   "source": [
    "def gcpercent(dna):                         #define function\n",
    "  count_g = dna.count('G')                  #count number of G using biopython dna.count                \n",
    "  count_c = dna.count('C')                  #count number of C using biopython dna.count\n",
    "  countGC = count_g + count_c               #count GC by adding the two counts of G and C together\n",
    "  dnalen = len(dna)                         #Define length of DNA string to divide by\n",
    "  gc_percent = countGC/dnalen * 100         #DIvide GC count by length of DNA multiply by 100 to get GC percentage\n",
    "  return gc_percent                         #return GC percentage\n",
    "\n",
    "gcpercent('ACCGTGACGTCATCGATCAGCATCAGCATCGACATCAGCACTACAGCATCACGATATACG') #test case\n",
    "    "
   ]
  },
  {
   "cell_type": "markdown",
   "metadata": {},
   "source": [
    "###   MAIN   ###"
   ]
  },
  {
   "cell_type": "code",
   "execution_count": 34,
   "metadata": {},
   "outputs": [],
   "source": [
    "cytb_seqs = get_sequences_from_file(\"penguins_cytb.fasta\") #use function from before to create dictionary of species\n",
    "penguins_df = pd.read_csv(\"penguins_mass.csv\")             #read penguin mass using read csv function from pandas\n",
    "species_list = list(penguins_df.species)                   #species list is turned into a list"
   ]
  },
  {
   "cell_type": "markdown",
   "metadata": {},
   "source": [
    " 6  \n",
    "Add two new columns to the penguin DataFrame: (1) molecular weight and (2) GC content.\n",
    " Set the value to 'NaN' to indicate that these cells are currently empty."
   ]
  },
  {
   "cell_type": "code",
   "execution_count": 35,
   "metadata": {},
   "outputs": [
    {
     "name": "stdout",
     "output_type": "stream",
     "text": [
      "                   species   mass  molecular weight  GC_content\n",
      "0     Aptenodytes forsteri  28.00               NaN         NaN\n",
      "1  Aptenodytes patagonicus  13.40               NaN         NaN\n",
      "2      Eudyptes chrysocome   2.80               NaN         NaN\n",
      "3    Eudyptes chrysolophus   4.50               NaN         NaN\n",
      "4        Eudyptes sclateri   4.25               NaN         NaN\n"
     ]
    }
   ],
   "source": [
    "penguins_df['molecular weight'] = float('NaN')      #adding column through indexing and filling with NaN\n",
    "penguins_df['GC_content'] = float('NaN')            #adding column through indexing and filling with NaN\n",
    "\n",
    "print(penguins_df.head())                           #print test case to check"
   ]
  },
  {
   "cell_type": "markdown",
   "metadata": {},
   "source": [
    "7  Write a for-loop that translates each sequence and also gets molecular weight and computes the GC content then appends to the dataframe"
   ]
  },
  {
   "cell_type": "code",
   "execution_count": 47,
   "metadata": {},
   "outputs": [
    {
     "data": {
      "text/html": [
       "<div>\n",
       "<style scoped>\n",
       "    .dataframe tbody tr th:only-of-type {\n",
       "        vertical-align: middle;\n",
       "    }\n",
       "\n",
       "    .dataframe tbody tr th {\n",
       "        vertical-align: top;\n",
       "    }\n",
       "\n",
       "    .dataframe thead th {\n",
       "        text-align: right;\n",
       "    }\n",
       "</style>\n",
       "<table border=\"1\" class=\"dataframe\">\n",
       "  <thead>\n",
       "    <tr style=\"text-align: right;\">\n",
       "      <th></th>\n",
       "      <th>species</th>\n",
       "      <th>mass</th>\n",
       "      <th>molecular weight</th>\n",
       "      <th>GC_content</th>\n",
       "      <th>molecular_weight</th>\n",
       "    </tr>\n",
       "  </thead>\n",
       "  <tbody>\n",
       "    <tr>\n",
       "      <th>0</th>\n",
       "      <td>Aptenodytes forsteri</td>\n",
       "      <td>28.00</td>\n",
       "      <td>NaN</td>\n",
       "      <td>48.381452</td>\n",
       "      <td>42414.56267</td>\n",
       "    </tr>\n",
       "    <tr>\n",
       "      <th>1</th>\n",
       "      <td>Aptenodytes patagonicus</td>\n",
       "      <td>13.40</td>\n",
       "      <td>NaN</td>\n",
       "      <td>49.693788</td>\n",
       "      <td>42518.61003</td>\n",
       "    </tr>\n",
       "    <tr>\n",
       "      <th>2</th>\n",
       "      <td>Eudyptes chrysocome</td>\n",
       "      <td>2.80</td>\n",
       "      <td>NaN</td>\n",
       "      <td>51.181102</td>\n",
       "      <td>42430.75639</td>\n",
       "    </tr>\n",
       "    <tr>\n",
       "      <th>3</th>\n",
       "      <td>Eudyptes chrysolophus</td>\n",
       "      <td>4.50</td>\n",
       "      <td>NaN</td>\n",
       "      <td>50.918635</td>\n",
       "      <td>42400.74582</td>\n",
       "    </tr>\n",
       "    <tr>\n",
       "      <th>4</th>\n",
       "      <td>Eudyptes sclateri</td>\n",
       "      <td>4.25</td>\n",
       "      <td>NaN</td>\n",
       "      <td>50.831146</td>\n",
       "      <td>42430.75639</td>\n",
       "    </tr>\n",
       "    <tr>\n",
       "      <th>5</th>\n",
       "      <td>Eudyptula minor</td>\n",
       "      <td>1.60</td>\n",
       "      <td>NaN</td>\n",
       "      <td>49.256343</td>\n",
       "      <td>42446.73355</td>\n",
       "    </tr>\n",
       "    <tr>\n",
       "      <th>6</th>\n",
       "      <td>Pygoscelis adeliae</td>\n",
       "      <td>4.60</td>\n",
       "      <td>NaN</td>\n",
       "      <td>49.081365</td>\n",
       "      <td>42413.56741</td>\n",
       "    </tr>\n",
       "    <tr>\n",
       "      <th>7</th>\n",
       "      <td>Pygoscelis antarctica</td>\n",
       "      <td>4.10</td>\n",
       "      <td>NaN</td>\n",
       "      <td>47.769029</td>\n",
       "      <td>42359.52973</td>\n",
       "    </tr>\n",
       "    <tr>\n",
       "      <th>8</th>\n",
       "      <td>Pygoscelis papua</td>\n",
       "      <td>6.10</td>\n",
       "      <td>NaN</td>\n",
       "      <td>47.156605</td>\n",
       "      <td>42550.71302</td>\n",
       "    </tr>\n",
       "    <tr>\n",
       "      <th>9</th>\n",
       "      <td>Spheniscus demersus</td>\n",
       "      <td>3.20</td>\n",
       "      <td>NaN</td>\n",
       "      <td>48.293963</td>\n",
       "      <td>42386.53137</td>\n",
       "    </tr>\n",
       "    <tr>\n",
       "      <th>10</th>\n",
       "      <td>Spheniscus humboldti</td>\n",
       "      <td>4.75</td>\n",
       "      <td>NaN</td>\n",
       "      <td>49.256343</td>\n",
       "      <td>42354.57390</td>\n",
       "    </tr>\n",
       "    <tr>\n",
       "      <th>11</th>\n",
       "      <td>Spheniscus magellanicus</td>\n",
       "      <td>3.40</td>\n",
       "      <td>NaN</td>\n",
       "      <td>48.206474</td>\n",
       "      <td>42414.56267</td>\n",
       "    </tr>\n",
       "  </tbody>\n",
       "</table>\n",
       "</div>"
      ],
      "text/plain": [
       "                    species   mass  molecular weight  GC_content  \\\n",
       "0      Aptenodytes forsteri  28.00               NaN   48.381452   \n",
       "1   Aptenodytes patagonicus  13.40               NaN   49.693788   \n",
       "2       Eudyptes chrysocome   2.80               NaN   51.181102   \n",
       "3     Eudyptes chrysolophus   4.50               NaN   50.918635   \n",
       "4         Eudyptes sclateri   4.25               NaN   50.831146   \n",
       "5           Eudyptula minor   1.60               NaN   49.256343   \n",
       "6        Pygoscelis adeliae   4.60               NaN   49.081365   \n",
       "7     Pygoscelis antarctica   4.10               NaN   47.769029   \n",
       "8          Pygoscelis papua   6.10               NaN   47.156605   \n",
       "9       Spheniscus demersus   3.20               NaN   48.293963   \n",
       "10     Spheniscus humboldti   4.75               NaN   49.256343   \n",
       "11  Spheniscus magellanicus   3.40               NaN   48.206474   \n",
       "\n",
       "    molecular_weight  \n",
       "0        42414.56267  \n",
       "1        42518.61003  \n",
       "2        42430.75639  \n",
       "3        42400.74582  \n",
       "4        42430.75639  \n",
       "5        42446.73355  \n",
       "6        42413.56741  \n",
       "7        42359.52973  \n",
       "8        42550.71302  \n",
       "9        42386.53137  \n",
       "10       42354.57390  \n",
       "11       42414.56267  "
      ]
     },
     "execution_count": 47,
     "metadata": {},
     "output_type": "execute_result"
    }
   ],
   "source": [
    "for key, value in cytb_seqs.items():                        #for loop start for dictionaries found in cytb_seqs\n",
    "    penguins_df.loc[penguins_df.species == key, 'molecular_weight'] = AA_weight(str(translate_function(value))) #Use functions from before translate and calculate, then add molecular weight to the dictionaries\n",
    "    penguins_df.loc[penguins_df.species == key, 'GC_content'] = gcpercent(value)  #Similar to above, take function from before, calculate GC percent and add to dictionaries\n",
    "penguins_df"
   ]
  },
  {
   "cell_type": "markdown",
   "metadata": {},
   "source": [
    "8\n",
    " \n",
    " Plot a bar-chart of the mass with the x-axes labeled with species names.\n",
    " \n",
    " *Q1* What is the smallest penguin species? \n",
    " \n",
    " The smallest pengu is Eudyptula minor.\n",
    " \n",
    " *Q2* What is the geographical range of this species?\n",
    "\n",
    " Eudyptula minor or fairy penguin/little blue penguins/blue penguins are found in Australia and New Zealand https://en.wikipedia.org/wiki/Little_penguin "
   ]
  },
  {
   "cell_type": "code",
   "execution_count": null,
   "metadata": {},
   "outputs": [],
   "source": [
    "#set plots to display in the notebook\n",
    "%matplotlib inline "
   ]
  },
  {
   "cell_type": "code",
   "execution_count": 44,
   "metadata": {},
   "outputs": [
    {
     "name": "stderr",
     "output_type": "stream",
     "text": [
      "C:\\Users\\danie\\AppData\\Local\\Temp\\ipykernel_31356\\1025918607.py:3: FutureWarning: \n",
      "\n",
      "Passing `palette` without assigning `hue` is deprecated and will be removed in v0.14.0. Assign the `x` variable to `hue` and set `legend=False` for the same effect.\n",
      "\n",
      "  sns.barplot(data=penguins_df, x='species', y='mass', palette=my_palette)\n",
      "C:\\Users\\danie\\AppData\\Local\\Temp\\ipykernel_31356\\1025918607.py:3: UserWarning: \n",
      "The palette list has fewer values (8) than needed (12) and will cycle, which may produce an uninterpretable plot.\n",
      "  sns.barplot(data=penguins_df, x='species', y='mass', palette=my_palette)\n"
     ]
    },
    {
     "data": {
      "text/plain": [
       "([0, 1, 2, 3, 4, 5, 6, 7, 8, 9, 10, 11],\n",
       " [Text(0, 0, 'Aptenodytes forsteri'),\n",
       "  Text(1, 0, 'Aptenodytes patagonicus'),\n",
       "  Text(2, 0, 'Eudyptes chrysocome'),\n",
       "  Text(3, 0, 'Eudyptes chrysolophus'),\n",
       "  Text(4, 0, 'Eudyptes sclateri'),\n",
       "  Text(5, 0, 'Eudyptula minor'),\n",
       "  Text(6, 0, 'Pygoscelis adeliae'),\n",
       "  Text(7, 0, 'Pygoscelis antarctica'),\n",
       "  Text(8, 0, 'Pygoscelis papua'),\n",
       "  Text(9, 0, 'Spheniscus demersus'),\n",
       "  Text(10, 0, 'Spheniscus humboldti'),\n",
       "  Text(11, 0, 'Spheniscus magellanicus')])"
      ]
     },
     "execution_count": 44,
     "metadata": {},
     "output_type": "execute_result"
    },
    {
     "data": {
      "image/png": "[encoded data removed]",
      "text/plain": [
       "<Figure size 640x480 with 1 Axes>"
      ]
     },
     "metadata": {},
     "output_type": "display_data"
    }
   ],
   "source": [
    "my_palette = [\"#7995de\", \"#c6889d\", \"#4e0e5e\", \"#afde15\", \"#0e5a22\", \"#17f209\", \"#df726f\", \"#a469d6\"] #creating a colour palette to use for the graph\n",
    "\n",
    "sns.barplot(data=penguins_df, x='species', y='mass', palette=my_palette)   #Create barplot using seaborn for penguin data vs mass\n",
    "plt.xticks(rotation=90)                                                    #rotate the labels so that it is readable"
   ]
  },
  {
   "cell_type": "markdown",
   "metadata": {},
   "source": [
    "9\n",
    "Plot a visualization of the molecular weight (y-axis) as a function of GC-content (x-axis).\n"
   ]
  },
  {
   "cell_type": "code",
   "execution_count": 46,
   "metadata": {},
   "outputs": [
    {
     "data": {
      "text/plain": [
       "<Axes: xlabel='GC_content', ylabel='molecular_weight'>"
      ]
     },
     "execution_count": 46,
     "metadata": {},
     "output_type": "execute_result"
    },
    {
     "data": {
      "image/png": "[encoded data removed]",
      "text/plain": [
       "<Figure size 640x480 with 1 Axes>"
      ]
     },
     "metadata": {},
     "output_type": "display_data"
    }
   ],
   "source": [
    "sns.scatterplot(data=penguins_df, x = 'GC_content', y='molecular_weight')   #Plot scatterplot using seaborn for GC content vs moelcualr weight"
   ]
  },
  {
   "cell_type": "markdown",
   "metadata": {},
   "source": [
    "10\n",
    "Save the new DataFrame to a file called \"penguins_mass_cytb.csv\""
   ]
  },
  {
   "cell_type": "code",
   "execution_count": 48,
   "metadata": {},
   "outputs": [],
   "source": [
    "penguins_df.to_csv(\"penguins_mass_cytb.csv\") #saving as a .csv file."
   ]
  }
 ],
 "metadata": {
  "kernelspec": {
   "display_name": "Python 3",
   "language": "python",
   "name": "python3"
  },
  "language_info": {
   "codemirror_mode": {
    "name": "ipython",
    "version": 3
   },
   "file_extension": ".py",
   "mimetype": "text/x-python",
   "name": "python",
   "nbconvert_exporter": "python",
   "pygments_lexer": "ipython3",
   "version": "3.11.9"
  }
 },
 "nbformat": 4,
 "nbformat_minor": 2
}
